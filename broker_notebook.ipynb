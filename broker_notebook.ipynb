{
 "cells": [
  {
   "cell_type": "code",
   "execution_count": 4,
   "metadata": {},
   "outputs": [],
   "source": [
    "#pip install -r requirements.txt"
   ]
  },
  {
   "cell_type": "code",
   "execution_count": 1,
   "metadata": {},
   "outputs": [],
   "source": [
    "from broker_rabbitmq import Broker\n",
    "from config_reader import config"
   ]
  },
  {
   "cell_type": "code",
   "execution_count": 2,
   "metadata": {},
   "outputs": [
    {
     "name": "stdout",
     "output_type": "stream",
     "text": [
      "\n"
     ]
    }
   ],
   "source": [
    "broker = Broker()\n",
    "\n",
    "channel = broker.channel"
   ]
  },
  {
   "cell_type": "code",
   "execution_count": 3,
   "metadata": {},
   "outputs": [],
   "source": [
    "channel"
   ]
  },
  {
   "cell_type": "code",
   "execution_count": 5,
   "metadata": {},
   "outputs": [],
   "source": [
    "import pika\n",
    "from config_reader import config"
   ]
  },
  {
   "cell_type": "code",
   "execution_count": 6,
   "metadata": {},
   "outputs": [
    {
     "name": "stdout",
     "output_type": "stream",
     "text": [
      "\n"
     ]
    }
   ],
   "source": [
    "connection_params = pika.ConnectionParameters(\n",
    "    host=config.rabbitmq_host,  # Замените на адрес вашего RabbitMQ сервера\n",
    "    port=config.rabbitmq_port,          # Порт по умолчанию для RabbitMQ\n",
    "    virtual_host='/',   # Виртуальный хост (обычно '/')\n",
    "    credentials=pika.PlainCredentials(\n",
    "        username=config.rabbitmq_username,  # Имя пользователя по умолчанию\n",
    "        password=config.rabbitmq_password   # Пароль по умолчанию\n",
    "    )\n",
    ")\n",
    "channel = None\n",
    "connection = None\n",
    "\n",
    "try:\n",
    "    # Установка соединения\n",
    "    connection = pika.BlockingConnection(connection_params)\n",
    "\n",
    "    # Создание канала\n",
    "    channel = connection.channel()\n",
    "except Exception as e:\n",
    "    print(e)"
   ]
  },
  {
   "cell_type": "code",
   "execution_count": 9,
   "metadata": {},
   "outputs": [
    {
     "data": {
      "text/plain": [
       "'83.220.174.161'"
      ]
     },
     "execution_count": 9,
     "metadata": {},
     "output_type": "execute_result"
    }
   ],
   "source": [
    "config.rabbitmq_host"
   ]
  },
  {
   "cell_type": "code",
   "execution_count": 7,
   "metadata": {},
   "outputs": [
    {
     "ename": "AMQPConnectionError",
     "evalue": "",
     "output_type": "error",
     "traceback": [
      "\u001b[1;31m---------------------------------------------------------------------------\u001b[0m",
      "\u001b[1;31mAMQPConnectionError\u001b[0m                       Traceback (most recent call last)",
      "Cell \u001b[1;32mIn[7], line 2\u001b[0m\n\u001b[0;32m      1\u001b[0m \u001b[38;5;66;03m# Установка соединения\u001b[39;00m\n\u001b[1;32m----> 2\u001b[0m connection \u001b[38;5;241m=\u001b[39m pika\u001b[38;5;241m.\u001b[39mBlockingConnection(connection_params)\n\u001b[0;32m      4\u001b[0m \u001b[38;5;66;03m# Создание канала\u001b[39;00m\n\u001b[0;32m      5\u001b[0m channel \u001b[38;5;241m=\u001b[39m connection\u001b[38;5;241m.\u001b[39mchannel()\n",
      "File \u001b[1;32m~\\AppData\\Roaming\\Python\\Python311\\site-packages\\pika\\adapters\\blocking_connection.py:360\u001b[0m, in \u001b[0;36mBlockingConnection.__init__\u001b[1;34m(self, parameters, _impl_class)\u001b[0m\n\u001b[0;32m    358\u001b[0m \u001b[38;5;66;03m# Perform connection workflow\u001b[39;00m\n\u001b[0;32m    359\u001b[0m \u001b[38;5;28mself\u001b[39m\u001b[38;5;241m.\u001b[39m_impl \u001b[38;5;241m=\u001b[39m \u001b[38;5;28;01mNone\u001b[39;00m  \u001b[38;5;66;03m# so that attribute is created in case below raises\u001b[39;00m\n\u001b[1;32m--> 360\u001b[0m \u001b[38;5;28mself\u001b[39m\u001b[38;5;241m.\u001b[39m_impl \u001b[38;5;241m=\u001b[39m \u001b[38;5;28mself\u001b[39m\u001b[38;5;241m.\u001b[39m_create_connection(parameters, _impl_class)\n\u001b[0;32m    361\u001b[0m \u001b[38;5;28mself\u001b[39m\u001b[38;5;241m.\u001b[39m_impl\u001b[38;5;241m.\u001b[39madd_on_close_callback(\u001b[38;5;28mself\u001b[39m\u001b[38;5;241m.\u001b[39m_closed_result\u001b[38;5;241m.\u001b[39mset_value_once)\n",
      "File \u001b[1;32m~\\AppData\\Roaming\\Python\\Python311\\site-packages\\pika\\adapters\\blocking_connection.py:451\u001b[0m, in \u001b[0;36mBlockingConnection._create_connection\u001b[1;34m(self, configs, impl_class)\u001b[0m\n\u001b[0;32m    449\u001b[0m     error \u001b[38;5;241m=\u001b[39m on_cw_done_result\u001b[38;5;241m.\u001b[39mvalue\u001b[38;5;241m.\u001b[39mresult\n\u001b[0;32m    450\u001b[0m     LOGGER\u001b[38;5;241m.\u001b[39merror(\u001b[38;5;124m'\u001b[39m\u001b[38;5;124mConnection workflow failed: \u001b[39m\u001b[38;5;132;01m%r\u001b[39;00m\u001b[38;5;124m'\u001b[39m, error)\n\u001b[1;32m--> 451\u001b[0m     \u001b[38;5;28;01mraise\u001b[39;00m \u001b[38;5;28mself\u001b[39m\u001b[38;5;241m.\u001b[39m_reap_last_connection_workflow_error(error)\n\u001b[0;32m    452\u001b[0m \u001b[38;5;28;01melse\u001b[39;00m:\n\u001b[0;32m    453\u001b[0m     LOGGER\u001b[38;5;241m.\u001b[39minfo(\u001b[38;5;124m'\u001b[39m\u001b[38;5;124mConnection workflow succeeded: \u001b[39m\u001b[38;5;132;01m%r\u001b[39;00m\u001b[38;5;124m'\u001b[39m,\n\u001b[0;32m    454\u001b[0m                 on_cw_done_result\u001b[38;5;241m.\u001b[39mvalue\u001b[38;5;241m.\u001b[39mresult)\n",
      "\u001b[1;31mAMQPConnectionError\u001b[0m: "
     ]
    }
   ],
   "source": [
    "# Установка соединения\n",
    "connection = pika.BlockingConnection(connection_params)\n",
    "\n",
    "# Создание канала\n",
    "channel = connection.channel()"
   ]
  },
  {
   "cell_type": "code",
   "execution_count": 7,
   "metadata": {},
   "outputs": [],
   "source": [
    "channel"
   ]
  },
  {
   "cell_type": "code",
   "execution_count": 3,
   "metadata": {},
   "outputs": [
    {
     "data": {
      "text/plain": [
       "True"
      ]
     },
     "execution_count": 3,
     "metadata": {},
     "output_type": "execute_result"
    }
   ],
   "source": [
    "channel is None"
   ]
  },
  {
   "cell_type": "code",
   "execution_count": 5,
   "metadata": {},
   "outputs": [
    {
     "name": "stdout",
     "output_type": "stream",
     "text": [
      "Sent: 'Hello, RabbitMQ!'\n"
     ]
    }
   ],
   "source": [
    "# Имя очереди\n",
    "queue_name = 'hello'\n",
    "\n",
    "# Отправка сообщения\n",
    "channel.queue_declare(queue=queue_name)  # Создание очереди (если не существует)\n",
    "\n",
    "message = 'Hello, RabbitMQ!'\n",
    "channel.basic_publish(\n",
    "    exchange='',\n",
    "    routing_key=queue_name,\n",
    "    body=message\n",
    ")\n",
    "\n",
    "print(f\"Sent: '{message}'\")"
   ]
  },
  {
   "cell_type": "code",
   "execution_count": 4,
   "metadata": {},
   "outputs": [
    {
     "ename": "AttributeError",
     "evalue": "'NoneType' object has no attribute 'basic_consume'",
     "output_type": "error",
     "traceback": [
      "\u001b[1;31m---------------------------------------------------------------------------\u001b[0m",
      "\u001b[1;31mAttributeError\u001b[0m                            Traceback (most recent call last)",
      "Cell \u001b[1;32mIn[4], line 7\u001b[0m\n\u001b[0;32m      4\u001b[0m     \u001b[38;5;28mprint\u001b[39m(\u001b[38;5;124mf\u001b[39m\u001b[38;5;124m\"\u001b[39m\u001b[38;5;124mReceived: \u001b[39m\u001b[38;5;124m'\u001b[39m\u001b[38;5;132;01m{\u001b[39;00mbodyMessage\u001b[38;5;132;01m}\u001b[39;00m\u001b[38;5;124m'\u001b[39m\u001b[38;5;124m\"\u001b[39m)\n\u001b[0;32m      6\u001b[0m \u001b[38;5;66;03m# Подписка на очередь и установка обработчика сообщений\u001b[39;00m\n\u001b[1;32m----> 7\u001b[0m channel\u001b[38;5;241m.\u001b[39mbasic_consume(\n\u001b[0;32m      8\u001b[0m     queue\u001b[38;5;241m=\u001b[39mconfig\u001b[38;5;241m.\u001b[39mrabbitmq_topicname,\n\u001b[0;32m      9\u001b[0m     on_message_callback\u001b[38;5;241m=\u001b[39mcallback,\n\u001b[0;32m     10\u001b[0m     auto_ack\u001b[38;5;241m=\u001b[39m\u001b[38;5;28;01mTrue\u001b[39;00m  \u001b[38;5;66;03m# Автоматическое подтверждение обработки сообщений\u001b[39;00m\n\u001b[0;32m     11\u001b[0m )\n\u001b[0;32m     13\u001b[0m \u001b[38;5;28mprint\u001b[39m(\u001b[38;5;124m'\u001b[39m\u001b[38;5;124mWaiting for messages. To exit, press Ctrl+C\u001b[39m\u001b[38;5;124m'\u001b[39m)\n\u001b[0;32m     14\u001b[0m channel\u001b[38;5;241m.\u001b[39mstart_consuming()\n",
      "\u001b[1;31mAttributeError\u001b[0m: 'NoneType' object has no attribute 'basic_consume'"
     ]
    }
   ],
   "source": [
    "# Функция, которая будет вызвана при получении сообщения\n",
    "def callback(ch, method, properties, body):\n",
    "    bodyMessage = body.decode('utf-8')\n",
    "    print(f\"Received: '{bodyMessage}'\")\n",
    "\n",
    "# Подписка на очередь и установка обработчика сообщений\n",
    "channel.basic_consume(\n",
    "    queue=config.rabbitmq_topicname,\n",
    "    on_message_callback=callback,\n",
    "    auto_ack=True  # Автоматическое подтверждение обработки сообщений\n",
    ")\n",
    "\n",
    "print('Waiting for messages. To exit, press Ctrl+C')\n",
    "channel.start_consuming()"
   ]
  }
 ],
 "metadata": {
  "kernelspec": {
   "display_name": "venv",
   "language": "python",
   "name": "python3"
  },
  "language_info": {
   "codemirror_mode": {
    "name": "ipython",
    "version": 3
   },
   "file_extension": ".py",
   "mimetype": "text/x-python",
   "name": "python",
   "nbconvert_exporter": "python",
   "pygments_lexer": "ipython3",
   "version": "3.11.5"
  }
 },
 "nbformat": 4,
 "nbformat_minor": 2
}
